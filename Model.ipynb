{
 "cells": [
  {
   "cell_type": "markdown",
   "id": "bcef5b4d",
   "metadata": {},
   "source": [
    "### NLP model"
   ]
  },
  {
   "cell_type": "code",
   "execution_count": 3,
   "id": "1ce00670",
   "metadata": {},
   "outputs": [],
   "source": [
    "!pip install -Uqq fastai"
   ]
  },
  {
   "cell_type": "code",
   "execution_count": 6,
   "id": "4397e302",
   "metadata": {},
   "outputs": [],
   "source": [
    "from fastai.text.all import *"
   ]
  },
  {
   "cell_type": "code",
   "execution_count": 1,
   "id": "afecebc8",
   "metadata": {},
   "outputs": [],
   "source": [
    "from scripts.textEXT import textEXTR\n",
    "obj=textEXTR()"
   ]
  },
  {
   "cell_type": "code",
   "execution_count": 2,
   "id": "61c6e8d8",
   "metadata": {},
   "outputs": [
    {
     "name": "stdout",
     "output_type": "stream",
     "text": [
      "Valid/Download  Example For Discharge Summary Template.pdf\n",
      "Waiting for the operation to finish.\n",
      "Valid/Free PDF Download Discharge Summary Template.pdf\n",
      "Waiting for the operation to finish.\n",
      "Valid/Hospital Discharge Summary Report.pdf\n",
      "Waiting for the operation to finish.\n",
      "Valid/Sample Example for Discharge Summary Template.pdf\n",
      "Waiting for the operation to finish.\n",
      "Valid/Suggested Discharge Summary.pdf\n",
      "Waiting for the operation to finish.\n",
      "Invalid/Biology-SQP.pdf\n",
      "Waiting for the operation to finish.\n",
      "Invalid/Science-SQP.pdf\n",
      "Waiting for the operation to finish.\n",
      "Invalid/cbjemasu01.pdf\n",
      "Waiting for the operation to finish.\n",
      "Invalid/statement_sample1.PDF\n",
      "Waiting for the operation to finish.\n"
     ]
    }
   ],
   "source": [
    "df=obj.main()"
   ]
  },
  {
   "cell_type": "code",
   "execution_count": 5,
   "id": "e2ab845d",
   "metadata": {},
   "outputs": [
    {
     "data": {
      "text/html": [
       "<div>\n",
       "<style scoped>\n",
       "    .dataframe tbody tr th:only-of-type {\n",
       "        vertical-align: middle;\n",
       "    }\n",
       "\n",
       "    .dataframe tbody tr th {\n",
       "        vertical-align: top;\n",
       "    }\n",
       "\n",
       "    .dataframe thead th {\n",
       "        text-align: right;\n",
       "    }\n",
       "</style>\n",
       "<table border=\"1\" class=\"dataframe\">\n",
       "  <thead>\n",
       "    <tr style=\"text-align: right;\">\n",
       "      <th></th>\n",
       "      <th>text</th>\n",
       "      <th>valid</th>\n",
       "    </tr>\n",
       "  </thead>\n",
       "  <tbody>\n",
       "    <tr>\n",
       "      <th>0</th>\n",
       "      <td>1\\nIndraprastha Apollo Hospitals\\ntouching liv...</td>\n",
       "      <td>0</td>\n",
       "    </tr>\n",
       "    <tr>\n",
       "      <th>1</th>\n",
       "      <td>Provider: Ken Cure, MD Patient: Patient H Samp...</td>\n",
       "      <td>0</td>\n",
       "    </tr>\n",
       "    <tr>\n",
       "      <th>2</th>\n",
       "      <td>Report Run Date: 5/27/2015\\nHospital Discharge...</td>\n",
       "      <td>0</td>\n",
       "    </tr>\n",
       "    <tr>\n",
       "      <th>3</th>\n",
       "      <td>OUTPATIENT CLINIC\\n2121 Main Street\\nRaleigh, ...</td>\n",
       "      <td>0</td>\n",
       "    </tr>\n",
       "    <tr>\n",
       "      <th>4</th>\n",
       "      <td>Patient Name: Admission Date: Discharge Date: ...</td>\n",
       "      <td>0</td>\n",
       "    </tr>\n",
       "    <tr>\n",
       "      <th>5</th>\n",
       "      <td>Time: 3 Hours Maximum Marks: 70\\nGeneral Instr...</td>\n",
       "      <td>1</td>\n",
       "    </tr>\n",
       "    <tr>\n",
       "      <th>6</th>\n",
       "      <td>No. Questions Marks\\nTime: 3 Hours Maximum Mar...</td>\n",
       "      <td>1</td>\n",
       "    </tr>\n",
       "    <tr>\n",
       "      <th>7</th>\n",
       "      <td>Mathematics Standard X Sample Paper 01 Unsolve...</td>\n",
       "      <td>1</td>\n",
       "    </tr>\n",
       "  </tbody>\n",
       "</table>\n",
       "</div>"
      ],
      "text/plain": [
       "                                                text valid\n",
       "0  1\\nIndraprastha Apollo Hospitals\\ntouching liv...     0\n",
       "1  Provider: Ken Cure, MD Patient: Patient H Samp...     0\n",
       "2  Report Run Date: 5/27/2015\\nHospital Discharge...     0\n",
       "3  OUTPATIENT CLINIC\\n2121 Main Street\\nRaleigh, ...     0\n",
       "4  Patient Name: Admission Date: Discharge Date: ...     0\n",
       "5  Time: 3 Hours Maximum Marks: 70\\nGeneral Instr...     1\n",
       "6  No. Questions Marks\\nTime: 3 Hours Maximum Mar...     1\n",
       "7  Mathematics Standard X Sample Paper 01 Unsolve...     1"
      ]
     },
     "execution_count": 5,
     "metadata": {},
     "output_type": "execute_result"
    }
   ],
   "source": [
    "df.head(8)"
   ]
  },
  {
   "cell_type": "code",
   "execution_count": 33,
   "id": "89657fe5",
   "metadata": {},
   "outputs": [],
   "source": [
    "dls = DataBlock(blocks=(TextBlock.from_df('text'), CategoryBlock),\n",
    "                      get_x=ColReader('text'),\n",
    "                      get_y=ColReader('valid'),\n",
    "                      splitter=RandomSplitter())"
   ]
  },
  {
   "cell_type": "code",
   "execution_count": 34,
   "id": "0e915f23",
   "metadata": {},
   "outputs": [
    {
     "data": {
      "text/html": [],
      "text/plain": [
       "<IPython.core.display.HTML object>"
      ]
     },
     "metadata": {},
     "output_type": "display_data"
    },
    {
     "name": "stderr",
     "output_type": "stream",
     "text": [
      "/opt/conda/lib/python3.7/site-packages/numpy/core/_asarray.py:83: VisibleDeprecationWarning: Creating an ndarray from ragged nested sequences (which is a list-or-tuple of lists-or-tuples-or ndarrays with different lengths or shapes) is deprecated. If you meant to do this, you must specify 'dtype=object' when creating the ndarray\n",
      "  return array(a, dtype, copy=False, order=order)\n"
     ]
    },
    {
     "data": {
      "text/html": [
       "<table border=\"1\" class=\"dataframe\">\n",
       "  <thead>\n",
       "    <tr style=\"text-align: right;\">\n",
       "      <th></th>\n",
       "      <th>text</th>\n",
       "      <th>category</th>\n",
       "    </tr>\n",
       "  </thead>\n",
       "  <tbody>\n",
       "    <tr>\n",
       "      <th>0</th>\n",
       "      <td>xxbos xxup xxunk xxup clinic \\n xxunk xxmaj xxunk xxmaj xxunk \\n xxmaj xxunk , xxup xxunk xxunk \\n xxunk - xxunk - xxunk \\n xxup xxunk xxup summary \\n xxmaj date of xxmaj exam : 7 / 4 / 2012 \\n xxmaj time of xxmaj exam : xxunk xxup xxunk \\n xxmaj patient xxmaj name : xxmaj anna xxmaj xxunk \\n xxmaj patient xxmaj number : 1 xxrep 4 0 xxunk \\n xxup date xxup admitted : 3 / 12 / 2012 \\n xxup date xxup xxunk : 7 / 4 / 2012 \\n xxmaj this discharge summary xxunk of \\n 1 . xxmaj the xxmaj initial xxmaj assessment , \\n 2 . xxmaj course of xxmaj treatment , \\n 3 . xxmaj xxunk 's xxmaj xxunk , and \\n 4 . xxmaj discharge xxmaj status and xxmaj instructions \\n 1 . \\n xxup initial xxup psychiatric xxup assessment</td>\n",
       "      <td>0</td>\n",
       "    </tr>\n",
       "    <tr>\n",
       "      <th>1</th>\n",
       "      <td>xxbos xxmaj report xxmaj xxunk xxmaj date : 5 / 27 / xxunk \\n xxmaj hospital xxmaj discharge xxmaj summary xxmaj report \\n xxmaj facility xxmaj xxunk \\n xxunk \\n xxup xxunk xxmaj facility xxmaj no . \\n xxunk \\n xxmaj hospital xxmaj name \\n xxup white xxup xxunk xxup medical xxup xxunk \\n xxmaj xxunk \\n xxmaj xxunk xxmaj xxunk \\n xxup xxunk \\n xxmaj xxunk \\n xxunk xxup xxunk xxup xxunk xxup xxunk xxup xxunk \\n xxmaj city \\n xxup xxunk xxup xxunk \\n xxunk \\n xxmaj xxunk xxmaj xxunk \\n xxmaj type of xxmaj control \\n xxmaj office of xxmaj xxunk xxmaj health \\n xxmaj xxunk and xxmaj development \\n non - xxunk \\n xxmaj xxunk xxmaj hospital \\n xxmaj xxunk \\n xxmaj xxunk xxmaj hospital \\n xxmaj xxunk xxmaj xxunk xxmaj size \\n xxunk - xxunk \\n xxmaj xxunk xxmaj xxunk \\n xxup xxunk 24 \\n</td>\n",
       "      <td>0</td>\n",
       "    </tr>\n",
       "  </tbody>\n",
       "</table>"
      ],
      "text/plain": [
       "<IPython.core.display.HTML object>"
      ]
     },
     "metadata": {},
     "output_type": "display_data"
    }
   ],
   "source": [
    "dls = dls.dataloaders(df,bs=2,)\n",
    "dls.show_batch(max_n=2)"
   ]
  },
  {
   "cell_type": "code",
   "execution_count": 35,
   "id": "d224ea0c",
   "metadata": {},
   "outputs": [
    {
     "data": {
      "text/html": [],
      "text/plain": [
       "<IPython.core.display.HTML object>"
      ]
     },
     "metadata": {},
     "output_type": "display_data"
    }
   ],
   "source": [
    "learn = text_classifier_learner(dls, AWD_LSTM, drop_mult=0.5, metrics=accuracy)"
   ]
  },
  {
   "cell_type": "code",
   "execution_count": 36,
   "id": "45578241",
   "metadata": {},
   "outputs": [
    {
     "data": {
      "text/html": [
       "<table border=\"1\" class=\"dataframe\">\n",
       "  <thead>\n",
       "    <tr style=\"text-align: left;\">\n",
       "      <th>epoch</th>\n",
       "      <th>train_loss</th>\n",
       "      <th>valid_loss</th>\n",
       "      <th>accuracy</th>\n",
       "      <th>time</th>\n",
       "    </tr>\n",
       "  </thead>\n",
       "  <tbody>\n",
       "    <tr>\n",
       "      <td>0</td>\n",
       "      <td>0.877153</td>\n",
       "      <td>0.738533</td>\n",
       "      <td>0.000000</td>\n",
       "      <td>00:18</td>\n",
       "    </tr>\n",
       "  </tbody>\n",
       "</table>"
      ],
      "text/plain": [
       "<IPython.core.display.HTML object>"
      ]
     },
     "metadata": {},
     "output_type": "display_data"
    },
    {
     "data": {
      "text/html": [
       "<table border=\"1\" class=\"dataframe\">\n",
       "  <thead>\n",
       "    <tr style=\"text-align: left;\">\n",
       "      <th>epoch</th>\n",
       "      <th>train_loss</th>\n",
       "      <th>valid_loss</th>\n",
       "      <th>accuracy</th>\n",
       "      <th>time</th>\n",
       "    </tr>\n",
       "  </thead>\n",
       "  <tbody>\n",
       "    <tr>\n",
       "      <td>0</td>\n",
       "      <td>0.588569</td>\n",
       "      <td>0.650511</td>\n",
       "      <td>1.000000</td>\n",
       "      <td>01:35</td>\n",
       "    </tr>\n",
       "  </tbody>\n",
       "</table>"
      ],
      "text/plain": [
       "<IPython.core.display.HTML object>"
      ]
     },
     "metadata": {},
     "output_type": "display_data"
    }
   ],
   "source": [
    "learn.fine_tune(1)"
   ]
  },
  {
   "cell_type": "code",
   "execution_count": null,
   "id": "aa88738e",
   "metadata": {},
   "outputs": [],
   "source": []
  }
 ],
 "metadata": {
  "environment": {
   "name": "pytorch-gpu.1-8.m71",
   "type": "gcloud",
   "uri": "gcr.io/deeplearning-platform-release/pytorch-gpu.1-8:m71"
  },
  "kernelspec": {
   "display_name": "Python [conda env:root] *",
   "language": "python",
   "name": "conda-root-py"
  },
  "language_info": {
   "codemirror_mode": {
    "name": "ipython",
    "version": 3
   },
   "file_extension": ".py",
   "mimetype": "text/x-python",
   "name": "python",
   "nbconvert_exporter": "python",
   "pygments_lexer": "ipython3",
   "version": "3.7.10"
  }
 },
 "nbformat": 4,
 "nbformat_minor": 5
}
