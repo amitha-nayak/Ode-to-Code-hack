{
 "cells": [
  {
   "cell_type": "code",
   "execution_count": 1,
   "id": "805d9c75",
   "metadata": {},
   "outputs": [],
   "source": [
    "!pip install -Uqq --upgrade google-cloud-vision"
   ]
  },
  {
   "cell_type": "code",
   "execution_count": 20,
   "id": "73c9909f",
   "metadata": {},
   "outputs": [],
   "source": [
    "def async_detect_document(gcs_source_uri, gcs_destination_uri):\n",
    "    \"\"\"OCR with PDF/TIFF as source files on GCS\"\"\"\n",
    "    import json\n",
    "    import re\n",
    "    from google.cloud import vision\n",
    "    from google.cloud import storage\n",
    "\n",
    "    # Supported mime_types are: 'application/pdf' and 'image/tiff'\n",
    "    mime_type = 'application/pdf'\n",
    "\n",
    "    # How many pages should be grouped into each json output file.\n",
    "    batch_size = 2\n",
    "\n",
    "    client = vision.ImageAnnotatorClient()\n",
    "\n",
    "    feature = vision.Feature(\n",
    "        type_=vision.Feature.Type.DOCUMENT_TEXT_DETECTION)\n",
    "\n",
    "    gcs_source = vision.GcsSource(uri=gcs_source_uri)\n",
    "    input_config = vision.InputConfig(\n",
    "        gcs_source=gcs_source, mime_type=mime_type)\n",
    "\n",
    "    gcs_destination = vision.GcsDestination(uri=gcs_destination_uri)\n",
    "    output_config = vision.OutputConfig(\n",
    "        gcs_destination=gcs_destination, batch_size=batch_size)\n",
    "\n",
    "    async_request = vision.AsyncAnnotateFileRequest(\n",
    "        features=[feature], input_config=input_config,\n",
    "        output_config=output_config)\n",
    "\n",
    "    operation = client.async_batch_annotate_files(\n",
    "        requests=[async_request])\n",
    "\n",
    "    print('Waiting for the operation to finish.')\n",
    "    operation.result(timeout=420)\n",
    "\n",
    "    # Once the request has completed and the output has been\n",
    "    # written to GCS, we can list all the output files.\n",
    "    storage_client = storage.Client()\n",
    "\n",
    "    match = re.match(r'gs://([^/]+)/(.+)', gcs_destination_uri)\n",
    "    bucket_name = match.group(1)\n",
    "    prefix = match.group(2)\n",
    "    print(type(gcs_destination))\n",
    "    bucket = storage_client.get_bucket(bucket_name)\n",
    "    \n",
    "    blob_list = list(bucket.list_blobs(prefix=prefix))\n",
    "    print('Output files:')\n",
    "    for blob in blob_list:\n",
    "        print(blob.name)\n",
    "\n",
    "    # Process the first output file from GCS.\n",
    "    # Since we specified batch_size=2, the first response contains\n",
    "    # the first two pages of the input file.\n",
    "    output = blob_list[0]\n",
    "    print(output)\n",
    "    json_string = output.download_as_string()\n",
    "    response = json.loads(json_string)\n",
    "\n",
    "    # The actual response for the first page of the input file.\n",
    "    first_page_response = response['responses'][0]\n",
    "    annotation = first_page_response['fullTextAnnotation']\n",
    "\n",
    "    # Here we print the full text from the first page.\n",
    "    # The response contains more information:\n",
    "    # annotation/pages/blocks/paragraphs/words/symbols\n",
    "    # including confidence scores and bounding boxes\n",
    "    print('Full text:\\n')\n",
    "    print(annotation['text'])\n",
    "\n",
    "    # List objects with the given prefix.\n",
    "    "
   ]
  },
  {
   "cell_type": "code",
   "execution_count": 21,
   "id": "dc765c98",
   "metadata": {},
   "outputs": [
    {
     "name": "stdout",
     "output_type": "stream",
     "text": [
      "Waiting for the operation to finish.\n",
      "<class 'google.cloud.vision_v1.types.image_annotator.GcsDestination'>\n",
      "Output files:\n",
      "output-1-to-1.json\n",
      "output/\n",
      "output/output-1-to-1.json\n",
      "output/output-1-to-2.json\n",
      "outputoutput-1-to-1.json\n",
      "<Blob: riscovry_documents, output-1-to-1.json, 1622885108665450>\n",
      "Full text:\n",
      "\n",
      "Provider: Ken Cure, MD Patient: Patient H Sample Provider's Pt ID: 6910828 Sex: Female\n",
      "Attachment Control Number: XA728302\n",
      "HOSPITAL DISCHARGE DX\n",
      "HOSPITAL DISCHARGE PROCEDURES 1. 32650 Thoracoscopy with chest tube placement and pleurodesis. HISTORY OF PRESENT ILLNESS The patient is a very pleasant, 70-year-old female with a history of breast cancer that was originally diagnosed in the early 70's. At that time she had a radical mastectomy with postoperative radiotherapy. In the mid 70's she developed a chest wall recurrence and was treated with further radiation therapy. She then went without evidence of disease for many years until the late 80's when she developed bone metastases with involvement of her sacroiliac joint, right trochanter, and left sacral area. She was started on Tamoxifen at that point in time and has done well until recently when she developed shortness of breath and was found to have a larger pleural effusion. This has been tapped on two occasions and has rapidly reaccumulated so she was admitted at this time for thoracoscopy with pleurodesis. Of note, her CA15-3 was 44 in the mid 90's and recently was found to be 600. HOSPITAL DISCHARGE PHYSICAL FINDINGS Physical examination at the time of admission revealed a thin, pleasant female in mild respiratory distress. She had no adenopathy. She had decreased breath sounds three fourths of the way up on the right side. The left lung was mostly clear although there were a few scattered rales. Cardiac examination revealed a regular rate and rhythm without murmurs. She had no hepatosplenomegaly and no peripheral clubbing, cyanosis, or edema. HOSPITAL DISCHARGE STUDIES SUMMARY A chest x-ray showed a large pleural effusion on the right. HOSPITAL COURSE The patient was admitted. A CT scan was performed which showed a possibility that the lung was trapped by tumor and that there were some adhesions. The patient then underwent thoracoscopy which confirmed the presence of a pleural peel of tumor and multiple adhesions which were taken down. Two chest tubes were subsequently placed. These were left in place for approximately four days after which a TALC slurry was infused and the chest tubes were removed the following day. Because of the significant pleural peel and the trapped lungs, it is clearly possible that the pleurodesis will not be successful and this was explained to the patient and the family prior to the procedure. Of note, we started her on Megace during this hospitalization because she was having significant nausea and vomiting with the Arimidex that she had been taking. HOSPITAL DISCHARGE FOLLOWUP The patient is being transferred to an extended-care facility near her home, where she will remain until she has enough strength to go home. It is possible that the fluid may reaccumulate and require repeat tapping despite the pleurodesis that was performed. Hopefully, however, with the combination of pleurodesis and the Megace that she was started on, she will have improvement of her cancer and a decrease in her pulmonary symptomatology. Overall, however, her prognosis is poor because of her debilitated state and the status of her lungs. She is being discharged on Tylenol with Codeine as needed for pain, Megace, and a Multivitamin. She will have a follow-up appointment with Dr. Follow in three weeks with a chest x-ray. They have been instructed to call us in the interim should there be any problems. Signed by: Ken Cure, MD on 30 Oct 1998 12:53\n",
      "• 174.8 Malignant neoplasm of female breast: Other specified sites of female breast • 163.8 Other specified sites of pleura.\n",
      "PHYSICIAN HOSPITAL DISCHARGE SUMMARY\n",
      "\n"
     ]
    }
   ],
   "source": [
    "async_detect_document(\"gs://riscovry_documents/Valid/Free PDF Download Discharge Summary Template.pdf\",\"gs://riscovry_documents/output\")"
   ]
  },
  {
   "cell_type": "code",
   "execution_count": null,
   "id": "5285de22",
   "metadata": {},
   "outputs": [],
   "source": []
  }
 ],
 "metadata": {
  "environment": {
   "name": "pytorch-gpu.1-8.m71",
   "type": "gcloud",
   "uri": "gcr.io/deeplearning-platform-release/pytorch-gpu.1-8:m71"
  },
  "kernelspec": {
   "display_name": "Python [conda env:root] *",
   "language": "python",
   "name": "conda-root-py"
  },
  "language_info": {
   "codemirror_mode": {
    "name": "ipython",
    "version": 3
   },
   "file_extension": ".py",
   "mimetype": "text/x-python",
   "name": "python",
   "nbconvert_exporter": "python",
   "pygments_lexer": "ipython3",
   "version": "3.7.10"
  }
 },
 "nbformat": 4,
 "nbformat_minor": 5
}
