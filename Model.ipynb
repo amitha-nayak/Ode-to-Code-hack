{
 "cells": [
  {
   "cell_type": "markdown",
   "id": "62e2370f",
   "metadata": {},
   "source": [
    "### NLP model"
   ]
  },
  {
   "cell_type": "code",
   "execution_count": 1,
   "id": "04862ee5",
   "metadata": {},
   "outputs": [],
   "source": [
    "!pip install -Uqq fastai"
   ]
  },
  {
   "cell_type": "code",
   "execution_count": 2,
   "id": "366f2a55",
   "metadata": {},
   "outputs": [],
   "source": [
    "from fastai.text.all import *"
   ]
  },
  {
   "cell_type": "code",
   "execution_count": 3,
   "id": "ca7dbde6",
   "metadata": {},
   "outputs": [],
   "source": [
    "from scripts.textEXT import textEXTR\n",
    "obj=textEXTR()"
   ]
  },
  {
   "cell_type": "code",
   "execution_count": 4,
   "id": "daccccd1",
   "metadata": {},
   "outputs": [
    {
     "name": "stdout",
     "output_type": "stream",
     "text": [
      "Valid/Discharg-Summary-Example-Template.pdf\n",
      "Valid/Discharge Summary Template 3.pdf\n",
      "Valid/Discharge Summary Template 4.pdf\n",
      "Valid/Discharge Summary Template 5.pdf\n",
      "Valid/Discharge Summary Template 6.pdf\n",
      "Valid/Discharge Summary Template 7.pdf\n",
      "Valid/Discharge Summary Template 8.pdf\n",
      "Valid/Discharge Summary Template 9.pdf\n",
      "Valid/Discharge-Summary-Template.pdf\n",
      "Valid/Download  Example For Discharge Summary Template.pdf\n",
      "Valid/Free PDF Download Discharge Summary Template.pdf\n",
      "Valid/Hospital Discharge Summary Report.pdf\n",
      "Valid/Medication Plan and Discharge Summary.pdf\n",
      "Valid/Printable Download Discharge Summary Template.pdf\n",
      "Valid/Sample Example for Discharge Summary Template.pdf\n",
      "Valid/Suggested Discharge Summary.pdf\n",
      "Invalid/08350463.pdf\n",
      "Invalid/Biology-SQP.pdf\n",
      "Invalid/GrahamWaitingfortheRightMoment.pdf\n",
      "Invalid/Science-SQP.pdf\n",
      "Invalid/cbjemasu01.pdf\n",
      "Invalid/reasearch-paper-cancer-classification.pdf\n",
      "Invalid/researchpaper-heartdisease.pdf\n",
      "Invalid/resume.pdf\n",
      "Invalid/statement_sample1.PDF\n"
     ]
    }
   ],
   "source": [
    "df=obj.main()"
   ]
  },
  {
   "cell_type": "code",
   "execution_count": 17,
   "id": "a38458e9",
   "metadata": {},
   "outputs": [
    {
     "data": {
      "text/html": [
       "<div>\n",
       "<style scoped>\n",
       "    .dataframe tbody tr th:only-of-type {\n",
       "        vertical-align: middle;\n",
       "    }\n",
       "\n",
       "    .dataframe tbody tr th {\n",
       "        vertical-align: top;\n",
       "    }\n",
       "\n",
       "    .dataframe thead th {\n",
       "        text-align: right;\n",
       "    }\n",
       "</style>\n",
       "<table border=\"1\" class=\"dataframe\">\n",
       "  <thead>\n",
       "    <tr style=\"text-align: right;\">\n",
       "      <th></th>\n",
       "      <th>text</th>\n",
       "      <th>valid</th>\n",
       "    </tr>\n",
       "  </thead>\n",
       "  <tbody>\n",
       "    <tr>\n",
       "      <th>0</th>\n",
       "      <td>Discharge Summary\\nAs you begin, state that you want the transcriptionist to use the Pediatric Discharge\\nSummary Template for the dictation\\nADMISSION DATE:\\nDISCHARGE DATE:\\nADMISSION DIAGNOSES: What you thought diagnosis was at admission based upon\\ninformation available at that time. Also includes reason for admission if you don't have enough\\ninformation to make a tentative diagnosis. At that point, the reason for admission may be based\\non symptoms only. Example: Fever without source.\\nDISCHARGE DIAGNOSES: What you have concluded is the diagnosis(es) based upon testing,\\nstudies, etc...</td>\n",
       "      <td>0</td>\n",
       "    </tr>\n",
       "    <tr>\n",
       "      <th>1</th>\n",
       "      <td>Schulich\\nMEDICINE &amp; DENTISTRY\\nAPPENDIX OF DICTATION TEMPLATES\\nUndergraduate Medical Education\\nApproved by:\\nDate of original approval:\\nDate of last review:\\nClerkship &amp; Electives Committee\\nAugust, 2013\\nN/A\\nAugust, 2014\\nDate of next scheduled review:\\n1.\\nPURPOSE\\nThe following dictation samples are included to provide clinical clerks with guidance.\\nII.\\nDEFINITIONS\\nCTU\\nMRP\\nClinical Teaching Unit\\nMost Responsible Physician\\nPaediatric Critical Care Unit\\nPCCU\\nIII.\\nAPPENDIX\\nCTU - Discharge Summary Dictation Template\\nAll patients who 1) were admitted for seven or more days, ...</td>\n",
       "      <td>0</td>\n",
       "    </tr>\n",
       "    <tr>\n",
       "      <th>2</th>\n",
       "      <td>Medicine - Discharge Planning and the D/C Note\\nD/C Checklist Discharge planning begins at the time of admission. However, if not already done, don’t forget to do the following: 1. Day before D/C □ Contact patient’s family doctor and/or pertinent specialists (if relevant). □ Fill out forms: • Inpatient/One day stay face sheet (see p 4) • Discharge summary sheet (see p 4)\\n□ Inform/arrange for home care (CCAC) etc. when appropriate. 2. Day of D/C □ Do any tasks not already done. □ Review scripts with senior. □ Ensure that appropriate follow-up has been arranged and that the patient is aware...</td>\n",
       "      <td>0</td>\n",
       "    </tr>\n",
       "    <tr>\n",
       "      <th>3</th>\n",
       "      <td>Abbreviated Dictation Format Introduction: Identify self, role, date, patient name, PIN # and their D.O.B. Copies to: Chart, Family physician, other specialists (first and last names) DATE OF ADMISSION: DATE OF DISCHARGE: I. MOST RESPONSIBLE DIAGNOSIS: II. I.D.: Mr. Doe is a III. ACTIVE PROBLEMS LIST: 1. __________ 2. __________etc. IV. OTHER PAST MED/SURGICAL HISTORY V. RE: “TITLE FOR ACTIVE PROBLEM #1” (Include abbreviated HPIs, course in hospital and functional status at time of D/C for each active problem) RE: “Title Active problem #1” RE: “Title Active problem #2” etc. VI. SUMMARY OF ...</td>\n",
       "      <td>0</td>\n",
       "    </tr>\n",
       "    <tr>\n",
       "      <th>4</th>\n",
       "      <td>SA/bb Job No: 2634965/1776188\\nAkhtar, Saima MD, FRCSC Signed on: 2010/05/03 17:26 Akhtar, Saima MD, FRCSC Authenticated on: 2010/05/03 17:28\\nGynaecology – Discharge Summary Sample: Discharge Summary (Gynecology) Discharge Summary Surname, Given Name – 1234 56 78 * Preliminary Report * Result type: Discharge Summary Result date: April 30, 2010 Result status: transcribed Result Title: DISCHARGE SUMMARY Performed by: Jones, Jane on May 4, 2010 16:38 Encounter info: 416087960, LHSC‐VC, Inpatient 2010/04/30 * Preliminary Report *\\nDISCHARGE SUMMARY (Unverified) cc: Dr. Ron N. Robins, VH 1234 ...</td>\n",
       "      <td>0</td>\n",
       "    </tr>\n",
       "  </tbody>\n",
       "</table>\n",
       "</div>"
      ],
      "text/plain": [
       "                                                                                                                                                                                                                                                                                                                                                                                                                                                                                                                                                                                                                      text  \\\n",
       "0  Discharge Summary\\nAs you begin, state that you want the transcriptionist to use the Pediatric Discharge\\nSummary Template for the dictation\\nADMISSION DATE:\\nDISCHARGE DATE:\\nADMISSION DIAGNOSES: What you thought diagnosis was at admission based upon\\ninformation available at that time. Also includes reason for admission if you don't have enough\\ninformation to make a tentative diagnosis. At that point, the reason for admission may be based\\non symptoms only. Example: Fever without source.\\nDISCHARGE DIAGNOSES: What you have concluded is the diagnosis(es) based upon testing,\\nstudies, etc...   \n",
       "1  Schulich\\nMEDICINE & DENTISTRY\\nAPPENDIX OF DICTATION TEMPLATES\\nUndergraduate Medical Education\\nApproved by:\\nDate of original approval:\\nDate of last review:\\nClerkship & Electives Committee\\nAugust, 2013\\nN/A\\nAugust, 2014\\nDate of next scheduled review:\\n1.\\nPURPOSE\\nThe following dictation samples are included to provide clinical clerks with guidance.\\nII.\\nDEFINITIONS\\nCTU\\nMRP\\nClinical Teaching Unit\\nMost Responsible Physician\\nPaediatric Critical Care Unit\\nPCCU\\nIII.\\nAPPENDIX\\nCTU - Discharge Summary Dictation Template\\nAll patients who 1) were admitted for seven or more days, ...   \n",
       "2  Medicine - Discharge Planning and the D/C Note\\nD/C Checklist Discharge planning begins at the time of admission. However, if not already done, don’t forget to do the following: 1. Day before D/C □ Contact patient’s family doctor and/or pertinent specialists (if relevant). □ Fill out forms: • Inpatient/One day stay face sheet (see p 4) • Discharge summary sheet (see p 4)\\n□ Inform/arrange for home care (CCAC) etc. when appropriate. 2. Day of D/C □ Do any tasks not already done. □ Review scripts with senior. □ Ensure that appropriate follow-up has been arranged and that the patient is aware...   \n",
       "3  Abbreviated Dictation Format Introduction: Identify self, role, date, patient name, PIN # and their D.O.B. Copies to: Chart, Family physician, other specialists (first and last names) DATE OF ADMISSION: DATE OF DISCHARGE: I. MOST RESPONSIBLE DIAGNOSIS: II. I.D.: Mr. Doe is a III. ACTIVE PROBLEMS LIST: 1. __________ 2. __________etc. IV. OTHER PAST MED/SURGICAL HISTORY V. RE: “TITLE FOR ACTIVE PROBLEM #1” (Include abbreviated HPIs, course in hospital and functional status at time of D/C for each active problem) RE: “Title Active problem #1” RE: “Title Active problem #2” etc. VI. SUMMARY OF ...   \n",
       "4  SA/bb Job No: 2634965/1776188\\nAkhtar, Saima MD, FRCSC Signed on: 2010/05/03 17:26 Akhtar, Saima MD, FRCSC Authenticated on: 2010/05/03 17:28\\nGynaecology – Discharge Summary Sample: Discharge Summary (Gynecology) Discharge Summary Surname, Given Name – 1234 56 78 * Preliminary Report * Result type: Discharge Summary Result date: April 30, 2010 Result status: transcribed Result Title: DISCHARGE SUMMARY Performed by: Jones, Jane on May 4, 2010 16:38 Encounter info: 416087960, LHSC‐VC, Inpatient 2010/04/30 * Preliminary Report *\\nDISCHARGE SUMMARY (Unverified) cc: Dr. Ron N. Robins, VH 1234 ...   \n",
       "\n",
       "  valid  \n",
       "0     0  \n",
       "1     0  \n",
       "2     0  \n",
       "3     0  \n",
       "4     0  "
      ]
     },
     "execution_count": 17,
     "metadata": {},
     "output_type": "execute_result"
    }
   ],
   "source": [
    "df.head()"
   ]
  },
  {
   "cell_type": "code",
   "execution_count": 6,
   "id": "b62d9021",
   "metadata": {},
   "outputs": [],
   "source": [
    "dls = DataBlock(blocks=(TextBlock.from_df('text'), CategoryBlock),\n",
    "                      get_x=ColReader('text'),\n",
    "                      get_y=ColReader('valid'),\n",
    "                      splitter=RandomSplitter())"
   ]
  },
  {
   "cell_type": "code",
   "execution_count": 8,
   "id": "b8b6de57",
   "metadata": {},
   "outputs": [
    {
     "data": {
      "text/html": [],
      "text/plain": [
       "<IPython.core.display.HTML object>"
      ]
     },
     "metadata": {},
     "output_type": "display_data"
    },
    {
     "name": "stderr",
     "output_type": "stream",
     "text": [
      "/opt/conda/lib/python3.7/site-packages/numpy/core/_asarray.py:83: VisibleDeprecationWarning: Creating an ndarray from ragged nested sequences (which is a list-or-tuple of lists-or-tuples-or ndarrays with different lengths or shapes) is deprecated. If you meant to do this, you must specify 'dtype=object' when creating the ndarray\n",
      "  return array(a, dtype, copy=False, order=order)\n"
     ]
    },
    {
     "data": {
      "text/html": [
       "<table border=\"1\" class=\"dataframe\">\n",
       "  <thead>\n",
       "    <tr style=\"text-align: right;\">\n",
       "      <th></th>\n",
       "      <th>text</th>\n",
       "      <th>category</th>\n",
       "    </tr>\n",
       "  </thead>\n",
       "  <tbody>\n",
       "    <tr>\n",
       "      <th>0</th>\n",
       "      <td>xxbos most xxunk arrangement xxunk rate of 98 % among others . xxmaj xxunk have now gone from lack of definition to being xxunk xxunk in xxunk xxunk . xxmaj in [ 9 ] , a xxunk of xxmaj xxunk fuzzy rough set ( kfrs ) and xxunk - supervised support vector machine ( xxunk ) is xxunk for xxunk xxunk biomarkers from one mirna and three gene xxunk xxunk information sets . xxmaj biomarkers are found xxunk three feature selection techniques , including xxup kfrs . xxmaj the xxunk of the recommended xxup kfrs and xxup xxunk xxunk on the microarray information sets is illustrated , and the cancer biomarkers xxunk xxunk from mirna information are xxunk for . xxmaj xxunk , biological significance tests are xxunk for mirna cancer biomarkers . xxmaj the xxunk finding of four xxunk childhood xxunk xxunk , xxunk , xxunk , non -</td>\n",
       "      <td>1</td>\n",
       "    </tr>\n",
       "    <tr>\n",
       "      <th>1</th>\n",
       "      <td>xxbos xxmaj globally , stroke was the most frequent disease ( 27.4 % ) followed by peritonitis \\n ( table 4 below ) \\n xxup iv . \\n xxup discussion \\n xxup table 4 : xxup diagnosis xxup of xxup elderly xxup patients xxup in xxup icu ( n=237 ) \\n xxmaj characteristics of disease \\n xxmaj frequency \\n xxmaj percentage \\n xxunk \\n xxunk \\n xxunk \\n xxunk \\n xxmaj older patients represented 11.2 % of admission in xxup icu . xxmaj this \\n is comparable to what xxmaj owojuyigbe [ 6 ] and al reported 10 % . xxmaj in \\n the xxup us , elderly patients represented 42 % to 52 % of xxup icu \\n admissions and 60 % of xxup icu days . xxmaj health care system , life \\n expectancy can explain this high rate in developed countries \\n compared to developing countries .</td>\n",
       "      <td>1</td>\n",
       "    </tr>\n",
       "  </tbody>\n",
       "</table>"
      ],
      "text/plain": [
       "<IPython.core.display.HTML object>"
      ]
     },
     "metadata": {},
     "output_type": "display_data"
    }
   ],
   "source": [
    "dls = dls.dataloaders(df,bs=16,)\n",
    "dls.show_batch(max_n=2)"
   ]
  },
  {
   "cell_type": "code",
   "execution_count": 9,
   "id": "1e85951c",
   "metadata": {},
   "outputs": [],
   "source": [
    "learn = text_classifier_learner(dls, AWD_LSTM, metrics=accuracy)"
   ]
  },
  {
   "cell_type": "code",
   "execution_count": 16,
   "id": "454835d9",
   "metadata": {},
   "outputs": [
    {
     "data": {
      "text/html": [
       "<table border=\"1\" class=\"dataframe\">\n",
       "  <thead>\n",
       "    <tr style=\"text-align: left;\">\n",
       "      <th>epoch</th>\n",
       "      <th>train_loss</th>\n",
       "      <th>valid_loss</th>\n",
       "      <th>accuracy</th>\n",
       "      <th>time</th>\n",
       "    </tr>\n",
       "  </thead>\n",
       "  <tbody>\n",
       "    <tr>\n",
       "      <td>0</td>\n",
       "      <td>0.291892</td>\n",
       "      <td>0.497556</td>\n",
       "      <td>0.789474</td>\n",
       "      <td>00:51</td>\n",
       "    </tr>\n",
       "  </tbody>\n",
       "</table>"
      ],
      "text/plain": [
       "<IPython.core.display.HTML object>"
      ]
     },
     "metadata": {},
     "output_type": "display_data"
    },
    {
     "data": {
      "text/html": [
       "<table border=\"1\" class=\"dataframe\">\n",
       "  <thead>\n",
       "    <tr style=\"text-align: left;\">\n",
       "      <th>epoch</th>\n",
       "      <th>train_loss</th>\n",
       "      <th>valid_loss</th>\n",
       "      <th>accuracy</th>\n",
       "      <th>time</th>\n",
       "    </tr>\n",
       "  </thead>\n",
       "  <tbody>\n",
       "    <tr>\n",
       "      <td>0</td>\n",
       "      <td>0.262383</td>\n",
       "      <td>0.448872</td>\n",
       "      <td>0.947368</td>\n",
       "      <td>02:11</td>\n",
       "    </tr>\n",
       "    <tr>\n",
       "      <td>1</td>\n",
       "      <td>0.244564</td>\n",
       "      <td>0.390642</td>\n",
       "      <td>0.894737</td>\n",
       "      <td>02:17</td>\n",
       "    </tr>\n",
       "  </tbody>\n",
       "</table>"
      ],
      "text/plain": [
       "<IPython.core.display.HTML object>"
      ]
     },
     "metadata": {},
     "output_type": "display_data"
    }
   ],
   "source": [
    "learn.fine_tune(2)"
   ]
  },
  {
   "cell_type": "code",
   "execution_count": 23,
   "id": "cd4f0ad7",
   "metadata": {},
   "outputs": [
    {
     "data": {
      "text/html": [],
      "text/plain": [
       "<IPython.core.display.HTML object>"
      ]
     },
     "metadata": {},
     "output_type": "display_data"
    },
    {
     "data": {
      "text/plain": [
       "('1', tensor(1), tensor([0.3417, 0.6583]))"
      ]
     },
     "execution_count": 23,
     "metadata": {},
     "output_type": "execute_result"
    }
   ],
   "source": [
    "#fake input with some keywords\n",
    "learn.predict(\"patient is here on vacation patient is here on vacation patient is here on vacation patient is here on vacation patient is here on vacation patient is here on vacation patient is here on vacation patient is here on vacation patient is here on vacation patient is here on vacation patient is here on vacation patient is here on vacation patient is here on vacation patient is here on vacation patient is here on vacation patient is here on vacation \")"
   ]
  },
  {
   "cell_type": "code",
   "execution_count": 25,
   "id": "40c856eb",
   "metadata": {},
   "outputs": [
    {
     "data": {
      "text/html": [],
      "text/plain": [
       "<IPython.core.display.HTML object>"
      ]
     },
     "metadata": {},
     "output_type": "display_data"
    },
    {
     "data": {
      "text/plain": [
       "('1', tensor(1), tensor([0.0409, 0.9591]))"
      ]
     },
     "execution_count": 25,
     "metadata": {},
     "output_type": "execute_result"
    }
   ],
   "source": [
    "learn.predict(\"discharged battery\")"
   ]
  },
  {
   "cell_type": "code",
   "execution_count": 27,
   "id": "d60ee3dc",
   "metadata": {},
   "outputs": [
    {
     "data": {
      "text/html": [],
      "text/plain": [
       "<IPython.core.display.HTML object>"
      ]
     },
     "metadata": {},
     "output_type": "display_data"
    },
    {
     "data": {
      "text/plain": [
       "('0', tensor(0), tensor([0.6005, 0.3995]))"
      ]
     },
     "execution_count": 27,
     "metadata": {},
     "output_type": "execute_result"
    }
   ],
   "source": [
    "#valid input\n",
    "learn.predict(\"A CT scan was performed which showed a possibility that the lung was trapped by tumor and that there were some adhesions. The patient then underwent thoracoscopy which confirmed the presence of a pleural peel of tumor and multiple adhesions which were taken down. Two chest tubes were subsequently placed. These were left in place for approximately four days after which a TALC slurry was infused and the chest tubes were removed the following day. Because of the significant pleural peel and the trapped lungs, it is clearly possible that the pleurodesis will not be successful and this was explained to the patient and the family prior to the procedure. Of note, we started her on Megace during this hospitalization because she was having significant nausea and vomiting with the Arimidex that she had been taking. HOSPITAL DISCHARGE FOLLOWUP The patient is being transferred to an extended-care facility near her home, where she will remain until she has enough strength to go home.\")"
   ]
  },
  {
   "cell_type": "code",
   "execution_count": 28,
   "id": "320a4a26",
   "metadata": {},
   "outputs": [],
   "source": [
    "learn.export()"
   ]
  }
 ],
 "metadata": {
  "environment": {
   "name": "pytorch-gpu.1-8.m71",
   "type": "gcloud",
   "uri": "gcr.io/deeplearning-platform-release/pytorch-gpu.1-8:m71"
  },
  "kernelspec": {
   "display_name": "Python [conda env:root] *",
   "language": "python",
   "name": "conda-root-py"
  },
  "language_info": {
   "codemirror_mode": {
    "name": "ipython",
    "version": 3
   },
   "file_extension": ".py",
   "mimetype": "text/x-python",
   "name": "python",
   "nbconvert_exporter": "python",
   "pygments_lexer": "ipython3",
   "version": "3.7.10"
  }
 },
 "nbformat": 4,
 "nbformat_minor": 5
}
